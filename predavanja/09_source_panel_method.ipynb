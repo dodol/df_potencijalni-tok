{
 "cells": [
  {
   "cell_type": "markdown",
   "metadata": {},
   "source": []
  },
  {
   "cell_type": "markdown",
   "metadata": {},
   "source": [
    "##### Version 0.01 -- Travanj 2017"
   ]
  },
  {
   "cell_type": "markdown",
   "metadata": {},
   "source": [
    "# Source panel method"
   ]
  },
  {
   "cell_type": "markdown",
   "metadata": {},
   "source": [
    "Do sada smo mogli uočiti da superpozicija [doublet-a](03_dublet.ipynb) i uniformnog toka može *dati* strujanje oko cilindra (s kružnim poprečnim presjekom) te da je u tom slučaju *drag* jednak nuli (*D'Alembert-ov paradoks*). Ako dodamo [vrtlog](05_vortex_uzgon.ipynb) u centar cilindra, tada je uzgon proporcionalan cikulaciji (*Kutta-Joukowski teorem*): $L=\\rho U \\Gamma$. \n",
    "\n",
    "Dodavanje osnovnih rješenja potencijalnog toka i interpretiranje *dividing streamline* kao krutog tijela se često još naziva *indirektna metoda* (Rankine, još 1871). Primjenjivost je prilično ograničena zbog činjenice što je teško ili gotovo nemoguće specificirati geometriju oko koje fluid treba optjecati.\n",
    "\n",
    "Prethodna [lekcija](08_strujanje_oko_cilindra.ipynb), pokazuje da je moguće prvo definirati geometriju i onda izračunati intenzitete izvora na panelima koji opisuju tijelo (strujanje je tangencijalno na povrišini). Takva metoda se još naziva *direktna metoda* za koju su zaslužni Hess i Smith iz Douglas Aircraft Company 1960-ih.\n",
    "\n",
    "Skup panela (2D dužina) može predstavljati površinu bilo kojeg tijela *uronjenog* u uniformni tok na način da intenzitete izvora postavimo takvim da je normalna brzina na svakom panelu jednaka nuli. Kako su paneli povezani, potrebno je riješiti sustav linearnih jednadžbi.\n",
    "\n",
    "Možemo kreirati proizvoljnu geometriju s panelima! Samo nam trebaju točke koje definiraju takvu geometriju. Ovdje ćemo koristiti datoteku koja opisuje geometriju **NACA0012 airfoil**, kreirati panele, izračunati intenzitete izvora *source sheet-ova* i dobiti strujanje oko profila krila aviona.\n",
    "\n",
    "\n",
    "Kao i do sada, import modula:"
   ]
  },
  {
   "cell_type": "code",
   "execution_count": 6,
   "metadata": {
    "collapsed": false
   },
   "outputs": [],
   "source": [
    "import os\n",
    "import math\n",
    "import numpy\n",
    "from scipy import integrate\n",
    "from matplotlib import pyplot\n",
    "# display the figures in the Notebook\n",
    "%matplotlib inline"
   ]
  },
  {
   "cell_type": "markdown",
   "metadata": {},
   "source": [
    "Sada ćemo učitati geometriju iz datoteke koristećo NumPy funkciju [`loadtxt()`](http://docs.scipy.org/doc/numpy/reference/generated/numpy.loadtxt.html). Datoteka se može skinuti s  [Airfoil Tools](http://airfoiltools.com/airfoil/details?airfoil=n0012-il) mrežne stranice i sadrži koordinate standardnog NACA0012 simetričnog profila. Datoteka je snimljena u `resources` mapi, iz koje ćemo *pročitati* datoteku.\n",
    "\n",
    "Točke geometrije su učitane u NumPy listu te ćemo razdijeliti podatke u dvije liste, `x,y` (samo zbog bolje čitljivosti koda). Na kraju ćemo prikazati geometriju."
   ]
  },
  {
   "cell_type": "code",
   "execution_count": 7,
   "metadata": {
    "collapsed": false
   },
   "outputs": [
    {
     "data": {
      "image/png": "[encoded data removed]",
      "text/plain": [
       "<matplotlib.figure.Figure at 0x7feac5f12c50>"
      ]
     },
     "metadata": {},
     "output_type": "display_data"
    }
   ],
   "source": [
    "# read of the geometry from a data file\n",
    "naca_filepath = os.path.join('resources', 'naca0012.dat')\n",
    "with open (naca_filepath, 'r') as file_name:\n",
    "    x, y = numpy.loadtxt(file_name, dtype=float, delimiter='\\t', unpack=True)\n",
    "\n",
    "# plot the geometry\n",
    "width = 10\n",
    "pyplot.figure(figsize=(width, width))\n",
    "pyplot.grid()\n",
    "pyplot.xlabel('x', fontsize=16)\n",
    "pyplot.ylabel('y', fontsize=16)\n",
    "pyplot.plot(x, y, color='k', linestyle='-', linewidth=2)\n",
    "pyplot.axis('scaled', adjustable='box')\n",
    "pyplot.xlim(-0.1, 1.1)\n",
    "pyplot.ylim(-0.1, 0.1);"
   ]
  },
  {
   "cell_type": "markdown",
   "metadata": {},
   "source": [
    "## Diskretizacija na panele"
   ]
  },
  {
   "cell_type": "markdown",
   "metadata": {},
   "source": [
    "Kao i u prethodnoj [lekciji](08_strujanje_oko_cilindra.ipynb), kreirat ćemo diskretizaciju geometrije kao panele(opet, 2D dužine). Atributi panela su: početna, krajnja i njegovo poloviše, duljina i orijentacija.  Dolje je slika...\n",
    "\n",
    "<img src=\"./resources/panelSketch.png\" width=\"400\">"
   ]
  },
  {
   "cell_type": "markdown",
   "metadata": {},
   "source": [
    "Malo ćemo promijeniti već postojeću klasu `Panel` iz prethodne lekcije: Jedina razlika je identifikacija gornje i donje površine sa stringovima `upper` i `lower`, što će biti korišteno za crtanje rezultata s različitim bojama, odnosno, mijenjamo klasu samo zbog dekoracije! Iako je za ovako male projekte sasvim opravdano tako mijenjati klasu, ovakvi zahvati su zabranjeni unutar većih projekata."
   ]
  },
  {
   "cell_type": "code",
   "execution_count": 8,
   "metadata": {
    "collapsed": false
   },
   "outputs": [],
   "source": [
    "class Panel:\n",
    "    \"\"\"\n",
    "    Contains information related to a panel.\n",
    "    \"\"\"\n",
    "    def __init__(self, xa, ya, xb, yb):\n",
    "        \"\"\"\n",
    "        Initializes the panel.\n",
    "        \n",
    "        Sets the end-points and calculates the center, length,\n",
    "        and angle (with the x-axis) of the panel.\n",
    "        Defines if the panel is on the lower or upper surface of the geometry.\n",
    "        Initializes the source-sheet strength, tangential velocity,\n",
    "        and pressure coefficient to zero.\n",
    "        \n",
    "        Parameters\n",
    "        ----------\n",
    "        xa: float\n",
    "            x-coordinate of the first end-point.\n",
    "        ya: float\n",
    "            y-coordinate of the first end-point.\n",
    "        xb: float\n",
    "            x-coordinate of the second end-point.\n",
    "        yb: float\n",
    "            y-coordinate of the second end-point.\n",
    "        \"\"\"\n",
    "        self.xa, self.ya = xa, ya\n",
    "        self.xb, self.yb = xb, yb\n",
    "        \n",
    "        self.xc, self.yc = (xa+xb)/2, (ya+yb)/2       # control-point (center-point)\n",
    "        self.length = math.sqrt((xb-xa)**2+(yb-ya)**2)     # length of the panel\n",
    "        \n",
    "        # orientation of the panel (angle between x-axis and panel's normal)\n",
    "        if xb-xa <= 0.:\n",
    "            self.beta = math.acos((yb-ya)/self.length)\n",
    "        elif xb-xa > 0.:\n",
    "            self.beta = math.pi + math.acos(-(yb-ya)/self.length)\n",
    "        \n",
    "        # location of the panel\n",
    "        if self.beta <= math.pi:\n",
    "            self.loc = 'upper'\n",
    "        else:\n",
    "            self.loc = 'lower'\n",
    "        \n",
    "        self.sigma = 0.                             # source strength\n",
    "        self.vt = 0.                                # tangential velocity\n",
    "        self.cp = 0.                                # pressure coefficient"
   ]
  },
  {
   "cell_type": "markdown",
   "metadata": {},
   "source": [
    "Diskretizacija cilindra sa kružnim poprečnim presjeko je bila prilično jednostavna, dok je diskretizacija kompleksnijih oblika, pogodili ste, kompleksnija. Ipak rješavač je efektivno isti kao i u prethodnoj [lekciji](08_strujanje_oko_cilindra.ipynb).\n",
    "\n",
    "Donja funkcija će kreirati panele iz geometrije koja je učitana iz datoteke. Bolje je kreirati manje panele na početku i na kraju profile (tamo gdje je zakrivljenost veća). Pragmatično rješenje za kreiranje uniformne distribucije oko profila je prvo diskretizirati kružnicu s promjerom tetive profila, kako je prikazano na donjoj skici:\n",
    "\n",
    "<img src=\"./resources/naca0012_in_circle.png\" width=\"300\">"
   ]
  },
  {
   "cell_type": "markdown",
   "metadata": {},
   "source": [
    "Sada spremimo $x$ koordinate kružnice, `x_circle`, koje će biti $x$ koordinate čvorova panela`x` i projicirati $y$ koordinate točaka kružnice na točka na profilu. Time dobijemo distribuciju na profilu koja je ugušćena upravo tamo gdje je potrebno:\n",
    "\n",
    "<img src=\"./resources/naca0012_discretized_in_circle.png\" width=\"300\">"
   ]
  },
  {
   "cell_type": "markdown",
   "metadata": {},
   "source": [
    "Funkcija koja koristi takvu metodu diskretizacije (a nazvat ćemo je `define_panels()`) mora vratiti listu objekata, a svaka je instanca klase `Panel` koja će sadržavati sve informacije o panelu.\n",
    "\n",
    "Par primjedbi o funkciji `define_panels()`:\n",
    "\n",
    "* moramo izračunati $x$ koordinate kružnice (`x_circle`) jer će $y$ koordinate panela biti izračunate interpolacijom;\n",
    "* kreirat ćemo kružnicu s `N+1` tačaka, ali prva i zadnja točka moraju biti iste;\n",
    "* proširit ćemo naše NumPy liste dodavanjem dodatnog elementa (koji je jednak prvom elementu); čime nije potrebno raditi ništa specijalno s elementom `x[i+1]` u petljama;\n",
    "* *while* petlja se koristi za pronalaženje dvaju uzastopnih točaka, (`x[I]`,`y[I]`) i (`x[I+1]`,`y[I+1]`), na profilu tako da interval [`x[I]`,`x[I+1]`] sadrži element `x_ends[i]`; koristit ćemo ključnu riječ `break` za izlaz iz petlje;\n",
    "* jednom kada nađemo dvije točke, element `y_ends[i]` će biti izračunat interpolacijom."
   ]
  },
  {
   "cell_type": "code",
   "execution_count": 9,
   "metadata": {
    "collapsed": false
   },
   "outputs": [],
   "source": [
    "def define_panels(x, y, N=40):\n",
    "    \"\"\"\n",
    "    Discretizes the geometry into panels using the 'cosine' method.\n",
    "    \n",
    "    Parameters\n",
    "    ----------\n",
    "    x: 1D array of floats\n",
    "        x-coordinate of the points defining the geometry.\n",
    "    y: 1D array of floats\n",
    "        y-coordinate of the points defining the geometry.\n",
    "    N: integer, optional\n",
    "        Number of panels;\n",
    "        default: 40.\n",
    "    \n",
    "    Returns\n",
    "    -------\n",
    "    panels: 1D Numpy array of Panel objects\n",
    "        The discretization of the geometry into panels.\n",
    "    \"\"\"\n",
    "    R = (x.max()-x.min())/2                                    # radius of the circle\n",
    "    x_center = (x.max()+x.min())/2                             # x-coord of the center\n",
    "    x_circle = x_center + R*numpy.cos(numpy.linspace(0, 2*math.pi, N+1))  # x-coord of the circle points\n",
    "    \n",
    "    x_ends = numpy.copy(x_circle)      # projection of the x-coord on the surface\n",
    "    y_ends = numpy.empty_like(x_ends)  # initialization of the y-coord Numpy array\n",
    "\n",
    "    x, y = numpy.append(x, x[0]), numpy.append(y, y[0])    # extend arrays using numpy.append\n",
    "    \n",
    "    # computes the y-coordinate of end-points\n",
    "    I = 0\n",
    "    for i in range(N):\n",
    "        while I < len(x)-1:\n",
    "            if (x[I] <= x_ends[i] <= x[I+1]) or (x[I+1] <= x_ends[i] <= x[I]):\n",
    "                break\n",
    "            else:\n",
    "                I += 1\n",
    "        a = (y[I+1]-y[I])/(x[I+1]-x[I])\n",
    "        b = y[I+1] - a*x[I+1]\n",
    "        y_ends[i] = a*x_ends[i] + b\n",
    "    y_ends[N] = y_ends[0]\n",
    "    \n",
    "    panels = numpy.empty(N, dtype=object)\n",
    "    for i in range(N):\n",
    "        panels[i] = Panel(x_ends[i], y_ends[i], x_ends[i+1], y_ends[i+1])\n",
    "    \n",
    "    return panels"
   ]
  },
  {
   "cell_type": "markdown",
   "metadata": {},
   "source": [
    "Sada ćemo iskoristiti funkciju s predefiniranim brojem panela i nacrtati dobivenu geometriju."
   ]
  },
  {
   "cell_type": "code",
   "execution_count": 10,
   "metadata": {
    "collapsed": false
   },
   "outputs": [
    {
     "data": {
      "image/png": "[encoded data removed]",
      "text/plain": [
       "<matplotlib.figure.Figure at 0x7feac3e048d0>"
      ]
     },
     "metadata": {},
     "output_type": "display_data"
    }
   ],
   "source": [
    "N = 40                            # number of panels\n",
    "panels = define_panels(x, y, N)   # discretizes of the geometry into panels\n",
    "\n",
    "# plot the geometry and the panels\n",
    "width = 10\n",
    "pyplot.figure(figsize=(width, width))\n",
    "pyplot.grid()\n",
    "pyplot.xlabel('x', fontsize=16)\n",
    "pyplot.ylabel('y', fontsize=16)\n",
    "pyplot.plot(x, y, color='k', linestyle='-', linewidth=2)\n",
    "pyplot.plot(numpy.append([panel.xa for panel in panels], panels[0].xa),\n",
    "            numpy.append([panel.ya for panel in panels], panels[0].ya),\n",
    "            linestyle='-', linewidth=1, marker='o', markersize=6, color='#CD2305')\n",
    "pyplot.axis('scaled', adjustable='box')\n",
    "pyplot.xlim(-0.1, 1.1)\n",
    "pyplot.ylim(-0.1, 0.1);"
   ]
  },
  {
   "cell_type": "markdown",
   "metadata": {},
   "source": [
    "## Uniformni tok"
   ]
  },
  {
   "cell_type": "markdown",
   "metadata": {},
   "source": [
    "Profil NACA0012 će biti *uronjen* u uniformni tok s brzinom $U_\\infty$ i kutem upada $\\alpha=0$. Samo zato što možemo, kreirat ćemo klasu za uniformni tok. Iako sam načelno protiv kreiranja klasa, ovdje mi se čini da je kod čitljiviji ako koristimo klasu...\n",
    "Također, jednostavnije je proslijediti objekt funkciji nego više atributa."
   ]
  },
  {
   "cell_type": "code",
   "execution_count": 11,
   "metadata": {
    "collapsed": false
   },
   "outputs": [],
   "source": [
    "class Freestream:\n",
    "    \"\"\"\n",
    "    Freestream conditions.\n",
    "    \"\"\"\n",
    "    def __init__(self, u_inf=1.0, alpha=0.0):\n",
    "        \"\"\"\n",
    "        Sets the freestream speed and angle (with the x-axis).\n",
    "        \n",
    "        Parameters\n",
    "        ----------\n",
    "        u_inf: float, optional\n",
    "            Freestream speed;\n",
    "            default: 1.0.\n",
    "        alpha: float, optional\n",
    "            Angle of attack in degrees;\n",
    "            default: 0.0.\n",
    "        \"\"\"\n",
    "        self.u_inf = u_inf\n",
    "        self.alpha = alpha*math.pi/180          # degrees --> radians"
   ]
  },
  {
   "cell_type": "code",
   "execution_count": 12,
   "metadata": {
    "collapsed": false
   },
   "outputs": [],
   "source": [
    "# define and creates the object freestream\n",
    "u_inf = 1.0                                # freestream spee\n",
    "alpha = 0.0                                # angle of attack (in degrees)\n",
    "freestream = Freestream(u_inf, alpha)      # instantiation of the object freestream"
   ]
  },
  {
   "cell_type": "markdown",
   "metadata": {},
   "source": [
    "## Rubni uvjet tangencijalnog strujanja na površini profila"
   ]
  },
  {
   "cell_type": "markdown",
   "metadata": {},
   "source": [
    "Postavljanje rubnog uvjeta za svaku *kontrolnu točku* diskretizirane geometrije rezultira sljedećim: takva geometrija odgovara *dividing* strujnici (ta aproksimacija postaje točnija s povećanjem broja panela). Dakle, za svaki panel $i$, smatramo $u_n=0$ na $(x_{c_i},y_{c_i})$, što nas dovodi do jednadžbe iz prethodne lekcije:\n",
    "\n",
    "\\begin{equation}\n",
    "u_{n_i} = \\frac{\\partial}{\\partial n_i}\\left\\lbrace \\phi\\left(x_{c_i},y_{c_i}\\right) \\right\\rbrace = 0\n",
    "\\end{equation}\n",
    "\n",
    "odnosno,\n",
    "\n",
    "\\begin{equation}\n",
    "0 = U_\\infty \\cos\\beta_i + \\frac{\\sigma_i}{2} + \\sum_{j=1,j\\neq i}^{N_p} \\frac{\\sigma_j}{2\\pi} \\int \\frac{\n",
    "\\left(x_{c_i}-x_j(s_j)\\right) \\cos\\beta_i\n",
    "+ \\left(y_{c_i}-y_j(s_j)\\right) \\sin\\beta_i\n",
    "}\n",
    "{\\left(x_{c_i}-x_j(s)\\right)^2 + \\left(y_{c_i}-y_j(s)\\right)^2} {\\rm d}s_j\n",
    "\\end{equation}"
   ]
  },
  {
   "cell_type": "markdown",
   "metadata": {},
   "source": [
    "U gornjoj jednadžbi računamo derivaciju potencijala u normalnom smjeru u cilju nametanja tangencijalnog strujanja na svakom panelu. Kasnije tebamo izračunati tu derivaciju (u tangencijalnom smjeru) da možemo izračunati koeficijent tlaka. Također smo prilično zainteresirani nacrtati sliku strujanja na mreži, št opet znači izračunati derivaciju u $x$ i $y$ smjeru.\n",
    "\n",
    "Donja funkcija je slična implementiranoj funkciji iz prošle Therefore the function below is similar to the one implemented in [lekcije](08_strujanje_oko_cilindra.ipynb), kojom izračunavamo integrale duže svakog panela. Ipak nju sada generaliziramo na način da se *prilagodimo* smjeru derivacije (sa dva nova argumenta `dxdz` i `dydz`), koji predstavljaju vrijednosti $\\frac{\\partial x_{c_i}}{\\partial z_i}$ i $\\frac{\\partial y_{c_i}}{\\partial z_i}$. $z_i$ je željeni smjer.\n",
    "\n",
    "Nadalje, funkcija je općenitija jer dopušta evaluaciju u bilo kojoj točki, ne samo u kontrolnoj točki panela. Argument `p_i` je zamijenjen koordinatama `x` i `y` kontrolne točke, dok je `p_j` zamijenje s `panel`."
   ]
  },
  {
   "cell_type": "code",
   "execution_count": 13,
   "metadata": {
    "collapsed": false
   },
   "outputs": [],
   "source": [
    "def integral(x, y, panel, dxdz, dydz):\n",
    "    \"\"\"\n",
    "    Evaluates the contribution of a panel at one point.\n",
    "    \n",
    "    Parameters\n",
    "    ----------\n",
    "    x: float\n",
    "        x-coordinate of the target point.\n",
    "    y: float\n",
    "        y-coordinate of the target point.\n",
    "    panel: Panel object\n",
    "        Source panel which contribution is evaluated.\n",
    "    dxdz: float\n",
    "        Derivative of x in the z-direction.\n",
    "    dydz: float\n",
    "        Derivative of y in the z-direction.\n",
    "    \n",
    "    Returns\n",
    "    -------\n",
    "    Integral over the panel of the influence at the given target point.\n",
    "    \"\"\"\n",
    "    def integrand(s):\n",
    "        return ( ((x - (panel.xa - math.sin(panel.beta)*s))*dxdz\n",
    "                  +(y - (panel.ya + math.cos(panel.beta)*s))*dydz)\n",
    "                / ((x - (panel.xa - math.sin(panel.beta)*s))**2\n",
    "                   +(y - (panel.ya + math.cos(panel.beta)*s))**2) )\n",
    "    return integrate.quad(integrand, 0.0, panel.length)[0]"
   ]
  },
  {
   "cell_type": "markdown",
   "metadata": {},
   "source": [
    "## Kreiranje linearnog sustava"
   ]
  },
  {
   "cell_type": "markdown",
   "metadata": {},
   "source": [
    "Ovdje ćemo kreirati linearni sustav jednadžbi \n",
    "\n",
    "\\begin{equation}[A][\\sigma] = [b].\\end{equation}\n",
    "\n",
    "Morat ćemo pozvati funkciju `integral()` s pravilnim vrijednostima za zadnje parametre,  $\\cos \\beta_i$ and $\\sin\\beta_i$, koji odgovaraju derivacijama u normalnom smjeru.\n",
    "\n",
    "Napokon, pozvat ćemo NumPy `linalg.solve()` funkciju kojom ćemo riješiti sustav i *dobiti* intenzitete svakog panela."
   ]
  },
  {
   "cell_type": "code",
   "execution_count": 14,
   "metadata": {
    "collapsed": false
   },
   "outputs": [],
   "source": [
    "def build_matrix(panels):\n",
    "    \"\"\"\n",
    "    Builds the source matrix.\n",
    "    \n",
    "    Parameters\n",
    "    ----------\n",
    "    panels: 1D array of Panel object\n",
    "        The source panels.\n",
    "    \n",
    "    Returns\n",
    "    -------\n",
    "    A: 2D Numpy array of floats\n",
    "        The source matrix (NxN matrix; N is the number of panels).\n",
    "    \"\"\"\n",
    "    N = len(panels)\n",
    "    A = numpy.empty((N, N), dtype=float)\n",
    "    numpy.fill_diagonal(A, 0.5)\n",
    "    \n",
    "    for i, p_i in enumerate(panels):\n",
    "        for j, p_j in enumerate(panels):\n",
    "            if i != j:\n",
    "                A[i,j] = 0.5/math.pi*integral(p_i.xc, p_i.yc, p_j, math.cos(p_i.beta), math.sin(p_i.beta))\n",
    "    \n",
    "    return A\n",
    "\n",
    "def build_rhs(panels, freestream):\n",
    "    \"\"\"\n",
    "    Builds the RHS of the linear system.\n",
    "    \n",
    "    Parameters\n",
    "    ----------\n",
    "    panels: 1D array of Panel objects\n",
    "        The source panels.\n",
    "    freestream: Freestream object\n",
    "        The freestream conditions.\n",
    "    \n",
    "    Returns\n",
    "    -------\n",
    "    b: 1D Numpy array of floats\n",
    "        RHS of the linear system.\n",
    "    \"\"\"\n",
    "    b = numpy.empty(len(panels), dtype=float)\n",
    "    \n",
    "    for i, panel in enumerate(panels):\n",
    "        b[i] = -freestream.u_inf * math.cos(freestream.alpha - panel.beta)\n",
    "    \n",
    "    return b"
   ]
  },
  {
   "cell_type": "code",
   "execution_count": 15,
   "metadata": {
    "collapsed": false
   },
   "outputs": [],
   "source": [
    "A = build_matrix(panels)                    # compute the singularity matrix\n",
    "b = build_rhs(panels, freestream)           # compute the freestream RHS"
   ]
  },
  {
   "cell_type": "code",
   "execution_count": 16,
   "metadata": {
    "collapsed": false
   },
   "outputs": [],
   "source": [
    "# solve the linear system\n",
    "sigma = numpy.linalg.solve(A, b)\n",
    "\n",
    "for i, panel in enumerate(panels):\n",
    "    panel.sigma = sigma[i]"
   ]
  },
  {
   "cell_type": "markdown",
   "metadata": {},
   "source": [
    "## Koeficijent tlaka na površini profila"
   ]
  },
  {
   "cell_type": "markdown",
   "metadata": {},
   "source": [
    "Iz Bernoullijeve jednadžbe:  koeficijent tlaka na $i$-tom panelu:\n",
    "\n",
    "\\begin{equation}C_{p_i} = 1-\\left(\\frac{u_{t_i}}{U_\\infty}\\right)^2\n",
    "\\end{equation}\n",
    "\n",
    "gdje je $u_{t_i}$ tangencijalna komponenta brzine na polovištu $i$-tog panela,\n",
    "\n",
    "\\begin{equation}\n",
    "u_{t_i} = -U_\\infty \\sin\\beta_i + \\sum_{j=1}^{N_p} \\frac{\\sigma_j}{2\\pi} \\int \\frac{\n",
    "\\left(x_{c_i}-x_j(s_j)\\right) \\frac{\\partial x_{c_i}}{\\partial t_i}\n",
    "+ \\left(y_{c_i}-y_j(s_j)\\right) \\frac{\\partial y_{c_i}}{\\partial t_i}\n",
    "}\n",
    "{\\left(x_{c_i}-x_j(s)\\right)^2 + \\left(y_{c_i}-y_j(s)\\right)^2} {\\rm d}s_j\n",
    "\\end{equation}\n",
    "\n",
    "sa\n",
    "\n",
    "\\begin{equation}\n",
    "\\frac{\\partial x_{c_i}}{\\partial t_i} = -\\sin\\beta_i \\quad\\text{and} \\quad \\frac{\\partial y_{c_i}}{\\partial t_i} = \\cos\\beta_i\n",
    "\\end{equation}\n",
    "\n",
    "Primijetite da pozivamo funkciju `integral()` s različitim parametrima: $-\\sin\\beta_i$ i $\\cos\\beta_i$ da dobijemo derivaciju u tangencijalnom smjeru."
   ]
  },
  {
   "cell_type": "code",
   "execution_count": 17,
   "metadata": {
    "collapsed": false
   },
   "outputs": [],
   "source": [
    "def get_tangential_velocity(panels, freestream):\n",
    "    \"\"\"\n",
    "    Computes the tangential velocity on the surface of the panels.\n",
    "    \n",
    "    Parameters\n",
    "    ---------\n",
    "    panels: 1D array of Panel objects\n",
    "        The source panels.\n",
    "    freestream: Freestream object\n",
    "        The freestream conditions.\n",
    "    \"\"\"\n",
    "    N = len(panels)\n",
    "    A = numpy.empty((N, N), dtype=float)\n",
    "    numpy.fill_diagonal(A, 0.0)\n",
    "    \n",
    "    for i, p_i in enumerate(panels):\n",
    "        for j, p_j in enumerate(panels):\n",
    "            if i != j:\n",
    "                A[i,j] = 0.5/math.pi*integral(p_i.xc, p_i.yc, p_j, -math.sin(p_i.beta), math.cos(p_i.beta))\n",
    "    \n",
    "    b = freestream.u_inf * numpy.sin([freestream.alpha - panel.beta for panel in panels])\n",
    "    \n",
    "    sigma = numpy.array([panel.sigma for panel in panels])\n",
    "    \n",
    "    vt = numpy.dot(A, sigma) + b\n",
    "    \n",
    "    for i, panel in enumerate(panels):\n",
    "        panel.vt = vt[i]"
   ]
  },
  {
   "cell_type": "code",
   "execution_count": 18,
   "metadata": {
    "collapsed": false
   },
   "outputs": [],
   "source": [
    "# compute the tangential velocity at the center-point of each panel\n",
    "get_tangential_velocity(panels, freestream)"
   ]
  },
  {
   "cell_type": "code",
   "execution_count": 19,
   "metadata": {
    "collapsed": false
   },
   "outputs": [],
   "source": [
    "def get_pressure_coefficient(panels, freestream):\n",
    "    \"\"\"\n",
    "    Computes the surface pressure coefficients on the panels.\n",
    "    \n",
    "    Parameters\n",
    "    ---------\n",
    "    panels: 1D array of Panel objects\n",
    "        The source panels.\n",
    "    freestream: Freestream object\n",
    "        The freestream conditions.\n",
    "    \"\"\"\n",
    "    for panel in panels:\n",
    "        panel.cp = 1.0 - (panel.vt/freestream.u_inf)**2"
   ]
  },
  {
   "cell_type": "code",
   "execution_count": 20,
   "metadata": {
    "collapsed": false
   },
   "outputs": [],
   "source": [
    "# computes the surface pressure coefficients\n",
    "get_pressure_coefficient(panels, freestream)"
   ]
  },
  {
   "cell_type": "markdown",
   "metadata": {},
   "source": [
    "### Točno, teoretsko rješenje"
   ]
  },
  {
   "cell_type": "markdown",
   "metadata": {},
   "source": [
    "Točno rješenje karakteristika profila se može dobiti pomoću *Theodorsenove metode*. Ono koristi tzv. Joukowski transformaciju, ali može dati rješenje za bilo koji profil, ali to je već izvan našeg promatranja. Rezultirajuće vrijednosti koeficijenta tlaka za neke profile su dati u [NACA Report No.824](http://ntrs.nasa.gov/archive/nasa/casi.ntrs.nasa.gov/19930090976.pdf) izdanom 1945, a nalaze se na NASA web serveru. \n",
    "\n",
    "Vrijednosti $(u/U_{\\infty})^2$ su dane za nekoliko lokacija duže tetive profila. Ovdje su predstavljeni kao lista:"
   ]
  },
  {
   "cell_type": "code",
   "execution_count": 21,
   "metadata": {
    "collapsed": false
   },
   "outputs": [
    {
     "name": "stdout",
     "output_type": "stream",
     "text": [
      "[ 0.     0.64   1.01   1.241  1.378  1.402  1.411  1.411  1.399  1.378\n",
      "  1.35   1.288  1.228  1.166  1.109  1.044  0.956  0.906  0.   ]\n"
     ]
    }
   ],
   "source": [
    "voverVsquared=numpy.array([0, 0.64, 1.01, 1.241, 1.378, 1.402, 1.411, 1.411, 1.399, 1.378, 1.35, 1.288, 1.228, 1.166, 1.109, 1.044, 0.956, 0.906, 0])\n",
    "print(voverVsquared)"
   ]
  },
  {
   "cell_type": "code",
   "execution_count": 22,
   "metadata": {
    "collapsed": false
   },
   "outputs": [
    {
     "name": "stdout",
     "output_type": "stream",
     "text": [
      "[ 0.      0.005   0.0125  0.025   0.05    0.075   0.1     0.15    0.2     0.25\n",
      "  0.3     0.4     0.5     0.6     0.7     0.8     0.9     0.95    1.    ]\n"
     ]
    }
   ],
   "source": [
    "xtheo=numpy.array([0, 0.5, 1.25, 2.5, 5.0, 7.5, 10, 15, 20, 25, 30, 40, 50, 60, 70, 80, 90, 95, 100])\n",
    "xtheo = xtheo/100\n",
    "print(xtheo)"
   ]
  },
  {
   "cell_type": "markdown",
   "metadata": {},
   "source": [
    "### Crtanje!"
   ]
  },
  {
   "cell_type": "markdown",
   "metadata": {},
   "source": [
    "Preuzete vrijednosti iz NACA izvještaja (dostupni i u knjizi Abbot and von Doenhoff, [\"Theory of Wing Sections,\"](http://books.google.com/books/about/Theory_of_Wing_Sections_Including_a_Summ.html?id=DPZYUGNyuboC) 1949) i usporediti distribuciju tlaka s našom metodom."
   ]
  },
  {
   "cell_type": "code",
   "execution_count": 23,
   "metadata": {
    "collapsed": false
   },
   "outputs": [
    {
     "data": {
      "image/png": "[encoded data removed]",
      "text/plain": [
       "<matplotlib.figure.Figure at 0x7feac3d5c8d0>"
      ]
     },
     "metadata": {},
     "output_type": "display_data"
    }
   ],
   "source": [
    "# plot the surface pressure coefficient\n",
    "pyplot.figure(figsize=(10, 6))\n",
    "pyplot.grid()\n",
    "pyplot.xlabel('x', fontsize=16)\n",
    "pyplot.ylabel('$C_p$', fontsize=16)\n",
    "pyplot.plot([panel.xc for panel in panels if panel.loc == 'upper'],\n",
    "            [panel.cp for panel in panels if panel.loc == 'upper'],\n",
    "            label='upper',\n",
    "            color='r', linewidth=1, marker='x', markersize=8)\n",
    "pyplot.plot([panel.xc for panel in panels if panel.loc == 'lower'],\n",
    "            [panel.cp for panel in panels if panel.loc == 'lower'],\n",
    "            label='lower',\n",
    "            color='b', linewidth=0, marker='d', markersize=6)\n",
    "pyplot.plot(xtheo, 1-voverVsquared,\n",
    "            label='theoretical',\n",
    "            color='k', linestyle='--',linewidth=2)\n",
    "pyplot.legend(loc='best', prop={'size':14})\n",
    "pyplot.xlim(-0.1, 1.1)\n",
    "pyplot.ylim(1.0, -0.6)\n",
    "pyplot.title('Number of panels : %d' % N);"
   ]
  },
  {
   "cell_type": "markdown",
   "metadata": {},
   "source": [
    "Nij loše, ali... *Trailing edge* se ne podudara s Theordorsenovom metodom. Uzrok? Uvjet tangencijalnog strujanja se nameće na polovištu panela, a ne na krajnjim točkama panela."
   ]
  },
  {
   "cell_type": "markdown",
   "metadata": {},
   "source": [
    "##### Provjera točnosti"
   ]
  },
  {
   "cell_type": "markdown",
   "metadata": {},
   "source": [
    "Suma svih intenziteta izvora mora iznositi nula za zatvoreno tijelo. Ako to nije zadogoljeno, to bi značilo da tijelo dodaje ili apsorbira masu u ili iz fluida. Mora vrijediti\n",
    "\n",
    "$$\\sum_{j=1}^{N} \\sigma_j l_j = 0$$\n",
    "\n",
    "gdje je $l_j$ duljina $j^{\\text{tog}}$ panela.\n",
    "\n",
    "Ovo je prilično dobra metoda procjene točnosti source panel metode."
   ]
  },
  {
   "cell_type": "code",
   "execution_count": 24,
   "metadata": {
    "collapsed": false
   },
   "outputs": [
    {
     "name": "stdout",
     "output_type": "stream",
     "text": [
      "--> sum of source/sink strengths: 0.004617031175283098\n"
     ]
    }
   ],
   "source": [
    "# calculate the accuracy\n",
    "accuracy = sum([panel.sigma*panel.length for panel in panels])\n",
    "print('--> sum of source/sink strengths: {}'.format(accuracy))"
   ]
  },
  {
   "cell_type": "markdown",
   "metadata": {},
   "source": [
    "## Strujnice"
   ]
  },
  {
   "cell_type": "markdown",
   "metadata": {},
   "source": [
    "Ako želimo dobiti strujnice, moramo kreirati mrežu i izračunati polje brzina.  Kako znamo intenzitet svakog panela, možemo izračunati $x$ komponentu brzine derivirajući potencijal brzine u $x$ smjeru, a $y$ komponente brzine derivirajući potencijal brzine  u $y$ smjeru:\n",
    "\n",
    "$$u\\left(x,y\\right) = \\frac{\\partial}{\\partial x}\\left\\lbrace \\phi\\left(x,y\\right) \\right\\rbrace$$\n",
    "\n",
    "$$v\\left(x,y\\right) = \\frac{\\partial}{\\partial y}\\left\\lbrace \\phi\\left(x,y\\right) \\right\\rbrace$$\n",
    "\n",
    "Primijetite da pozivamo funkciju `integral()` s $1,0$ kada računamo derivacije u $x$ smjeru, a $0,1$ za derivacije u $y$ smjeru.\n",
    "\n",
    "I ovdje koristimo `numpy.vectorize()` da izbjegnemo *nested loops*."
   ]
  },
  {
   "cell_type": "code",
   "execution_count": 25,
   "metadata": {
    "collapsed": false
   },
   "outputs": [],
   "source": [
    "def get_velocity_field(panels, freestream, X, Y):\n",
    "    \"\"\"\n",
    "    Computes the velocity field on a given 2D mesh.\n",
    "    \n",
    "    Parameters\n",
    "    ---------\n",
    "    panels: 1D array of Panel objects\n",
    "        The source panels.\n",
    "    freestream: Freestream object\n",
    "        The freestream conditions.\n",
    "    X: 2D Numpy array of floats\n",
    "        x-coordinates of the mesh points.\n",
    "    Y: 2D Numpy array of floats\n",
    "        y-coordinate of the mesh points.\n",
    "    \n",
    "    Returns\n",
    "    -------\n",
    "    u: 2D Numpy array of floats\n",
    "        x-component of the velocity vector field.\n",
    "    v: 2D Numpy array of floats\n",
    "        y-component of the velocity vector field.\n",
    "    \"\"\"\n",
    "    # freestream contribution\n",
    "    u = freestream.u_inf * math.cos(freestream.alpha) * numpy.ones_like(X, dtype=float)\n",
    "    v = freestream.u_inf * math.sin(freestream.alpha) * numpy.ones_like(X, dtype=float)\n",
    "    # add the contribution from each source (superposition powers!!!)\n",
    "    vec_intregral = numpy.vectorize(integral)\n",
    "    for panel in panels:\n",
    "        u += panel.sigma / (2.0 * math.pi) * vec_intregral(X, Y, panel, 1, 0)\n",
    "        v += panel.sigma / (2.0 * math.pi) * vec_intregral(X, Y, panel, 0, 1)\n",
    "    \n",
    "    return u, v"
   ]
  },
  {
   "cell_type": "code",
   "execution_count": 26,
   "metadata": {
    "collapsed": false
   },
   "outputs": [],
   "source": [
    "# define a mesh grid\n",
    "nx, ny = 20, 20  # number of points in the x and y directions\n",
    "x_start, x_end = -1.0, 2.0\n",
    "y_start, y_end = -0.3, 0.3\n",
    "X, Y = numpy.meshgrid(numpy.linspace(x_start, x_end, nx),\n",
    "                      numpy.linspace(y_start, y_end, ny))\n",
    "\n",
    "# compute the velocity field on the mesh grid\n",
    "u, v = get_velocity_field(panels, freestream, X, Y)"
   ]
  },
  {
   "cell_type": "code",
   "execution_count": 27,
   "metadata": {
    "collapsed": false
   },
   "outputs": [
    {
     "data": {
      "image/png": "[encoded data removed]",
      "text/plain": [
       "<matplotlib.figure.Figure at 0x7feac3bc9860>"
      ]
     },
     "metadata": {},
     "output_type": "display_data"
    }
   ],
   "source": [
    "# plot the velocity field\n",
    "width = 10\n",
    "pyplot.figure(figsize=(width, width))\n",
    "pyplot.xlabel('x', fontsize=16)\n",
    "pyplot.ylabel('y', fontsize=16)\n",
    "pyplot.streamplot(X, Y, u, v,\n",
    "                  density=1, linewidth=1, arrowsize=1, arrowstyle='->')\n",
    "pyplot.fill([panel.xc for panel in panels],\n",
    "            [panel.yc for panel in panels],\n",
    "            color='k', linestyle='solid', linewidth=2, zorder=2)\n",
    "pyplot.axis('scaled', adjustable='box')\n",
    "pyplot.xlim(x_start, x_end)\n",
    "pyplot.ylim(y_start, y_end)\n",
    "pyplot.title('Streamlines around a NACA 0012 airfoil (AoA = ${}^o$)'.format(alpha), fontsize=16);"
   ]
  },
  {
   "cell_type": "markdown",
   "metadata": {},
   "source": [
    "Sada smo spremni izračunati koeficijent tlaka oko profila."
   ]
  },
  {
   "cell_type": "code",
   "execution_count": 37,
   "metadata": {
    "collapsed": false
   },
   "outputs": [
    {
     "data": {
      "image/png": "[encoded data removed]",
      "text/plain": [
       "<matplotlib.figure.Figure at 0x7feafd543080>"
      ]
     },
     "metadata": {},
     "output_type": "display_data"
    }
   ],
   "source": [
    "# compute the pressure field\n",
    "cp = 1.0 - (u**2+v**2)/freestream.u_inf**2\n",
    "\n",
    "# plot the pressure field\n",
    "width = 10\n",
    "pyplot.figure(figsize=(width, width))\n",
    "pyplot.xlabel('x', fontsize=16)\n",
    "pyplot.ylabel('y', fontsize=16)\n",
    "contf = pyplot.contourf(X, Y, cp,\n",
    "                        levels=numpy.linspace(-2.0, 0.5, 100), extend='both')\n",
    "cbar = pyplot.colorbar(contf,\n",
    "                       orientation='horizontal',\n",
    "                       shrink=0.5, pad = 0.1,\n",
    "                       ticks=[-2.0, -1.0, 0.0, 1.0])\n",
    "cbar.set_label('$C_p$', fontsize=16)\n",
    "pyplot.fill([panel.xc for panel in panels],\n",
    "            [panel.yc for panel in panels],\n",
    "            color='k', linestyle='solid', linewidth=2, zorder=2)\n",
    "pyplot.axis('scaled', adjustable='box')\n",
    "pyplot.xlim(x_start, x_end)\n",
    "pyplot.ylim(y_start, y_end)\n",
    "pyplot.title('Contour of pressure field', fontsize=16);"
   ]
  },
  {
   "cell_type": "markdown",
   "metadata": {},
   "source": [
    "## Reference"
   ]
  },
  {
   "cell_type": "markdown",
   "metadata": {},
   "source": [
    "1. [Airfoil Tools](http://airfoiltools.com/index), website providing airfoil data.\n",
    "1. Ira Herbert Abbott, Albert Edward Von Doenhoff and Louis S. Stivers, Jr. (1945), \"Summary of Airfoil Data,\" NACA Report No.824, [PDF on the NASA web server](http://ntrs.nasa.gov/archive/nasa/casi.ntrs.nasa.gov/19930090976.pdf) (see p. 71)\n",
    "1. Ira Herbert Abbott, Albert Edward Von Doenhoff, \"Theory of Wing Sections, Including a Summary of Airfoil Data\" (1949), Dover Press. \n",
    "\n",
    "A further reference on Theodorsen's method is:\n",
    "\n",
    "* Roland Schinzinger, Patricio A. A. Laura (1991), \"Conformal Mapping: Methods and Applications.\" Dover edition in 2003. [Read on Google Books](https://books.google.com/books?id=qe-7AQAAQBAJ&lpg=PA128&ots=wbg0jLlqq5&dq=method%20theodorsen&pg=PA128#v=onepage&q=%22method%20of%20theodorsen%20and%20garrick%22&f=false)\n"
   ]
  },
  {
   "cell_type": "markdown",
   "metadata": {},
   "source": [
    "---"
   ]
  },
  {
   "cell_type": "markdown",
   "metadata": {},
   "source": [
    "###### Ignorirati dolje: load stila"
   ]
  },
  {
   "cell_type": "code",
   "execution_count": 29,
   "metadata": {
    "collapsed": false
   },
   "outputs": [
    {
     "data": {
      "text/html": [
       "<link href='http://fonts.googleapis.com/css?family=Fenix' rel='stylesheet' type='text/css'>\n",
       "<link href='http://fonts.googleapis.com/css?family=Alegreya+Sans:100,300,400,500,700,800,900,100italic,300italic,400italic,500italic,700italic,800italic,900italic' rel='stylesheet' type='text/css'>\n",
       "<link href='http://fonts.googleapis.com/css?family=Source+Code+Pro:300,400' rel='stylesheet' type='text/css'>\n",
       "<style>\n",
       "\n",
       "@font-face {\n",
       "    font-family: \"Computer Modern\";\n",
       "    src: url('http://mirrors.ctan.org/fonts/cm-unicode/fonts/otf/cmunss.otf');\n",
       "}\n",
       "\n",
       "\n",
       "#notebook_panel { /* main background */\n",
       "    background: rgb(245,245,245);\n",
       "}\n",
       "\n",
       "div.cell { /* set cell width */\n",
       "    width: 750px;\n",
       "}\n",
       "\n",
       "div #notebook { /* centre the content */\n",
       "    background: #fff; /* white background for content */\n",
       "    width: 1000px;\n",
       "    margin: auto;\n",
       "    padding-left: 0em;\n",
       "}\n",
       "\n",
       "#notebook li { /* More space between bullet points */\n",
       "margin-top:0.8em;\n",
       "}\n",
       "\n",
       "/* draw border around running cells */\n",
       "div.cell.border-box-sizing.code_cell.running { \n",
       "    border: 1px solid #111;\n",
       "}\n",
       "\n",
       "/* Put a solid color box around each cell and its output, visually linking them*/\n",
       "div.cell.code_cell {\n",
       "    background-color: rgb(256,256,256); \n",
       "    border-radius: 0px; \n",
       "    padding: 0.5em;\n",
       "    margin-left:1em;\n",
       "    margin-top: 1em;\n",
       "}\n",
       "\n",
       "\n",
       "div.text_cell_render{\n",
       "    font-family: 'Alegreya Sans' sans-serif;\n",
       "    line-height: 140%;\n",
       "    font-size: 125%;\n",
       "    font-weight: 400;\n",
       "    width:600px;\n",
       "    margin-left:auto;\n",
       "    margin-right:auto;\n",
       "}\n",
       "\n",
       "/* Formatting for header cells */\n",
       ".text_cell_render h1 {\n",
       "    font-family: 'Alegreya Sans', sans-serif;\n",
       "    font-style:regular;\n",
       "    font-weight: 200;    \n",
       "    font-size: 50pt;\n",
       "    line-height: 100%;\n",
       "    color:#CD2305;\n",
       "    margin-bottom: 0.5em;\n",
       "    margin-top: 0.5em;\n",
       "    display: block;\n",
       "}\t\n",
       ".text_cell_render h2 {\n",
       "    font-family: 'Fenix', serif;\n",
       "    font-size: 22pt;\n",
       "    line-height: 100%;\n",
       "    margin-bottom: 0.1em;\n",
       "    margin-top: 0.3em;\n",
       "    display: block;\n",
       "}\t\n",
       "\n",
       ".text_cell_render h3 {\n",
       "    font-family: 'Fenix', serif;\n",
       "    margin-top:12px;\n",
       "\tfont-size: 16pt;\n",
       "    margin-bottom: 3px;\n",
       "    font-style: regular;\n",
       "}\n",
       "\n",
       ".text_cell_render h4 {    /*Use this for captions*/\n",
       "    font-family: 'Fenix', serif;\n",
       "    font-size: 2pt;\n",
       "    text-align: center;\n",
       "    margin-top: 0em;\n",
       "    margin-bottom: 2em;\n",
       "    font-style: regular;\n",
       "}\n",
       "\n",
       ".text_cell_render h5 {  /*Use this for small titles*/\n",
       "    font-family: 'Alegreya Sans', sans-serif;\n",
       "    font-weight: 300;\n",
       "    font-size: 16pt;\n",
       "    color: #CD2305;\n",
       "    font-style: italic;\n",
       "    margin-bottom: .5em;\n",
       "    margin-top: 0.5em;\n",
       "    display: block;\n",
       "}\n",
       "\n",
       ".text_cell_render h6 { /*use this for copyright note*/\n",
       "    font-family: 'Source Code Pro', sans-serif;\n",
       "    font-weight: 300;\n",
       "    font-size: 9pt;\n",
       "    line-height: 100%;\n",
       "    color: grey;\n",
       "    margin-bottom: 1px;\n",
       "    margin-top: 1px;\n",
       "}\n",
       "\n",
       "    .CodeMirror{\n",
       "            font-family: \"Source Code Pro\";\n",
       "\t\t\tfont-size: 90%;\n",
       "    }\n",
       "/*    .prompt{\n",
       "        display: None;\n",
       "    }*/\n",
       "\t\n",
       "    \n",
       "    .warning{\n",
       "        color: rgb( 240, 20, 20 )\n",
       "        }  \n",
       "</style>\n",
       "<script>\n",
       "    MathJax.Hub.Config({\n",
       "                        TeX: {\n",
       "                           extensions: [\"AMSmath.js\"], \n",
       "                           equationNumbers: { autoNumber: \"AMS\", useLabelIds: true}\n",
       "                           },\n",
       "                tex2jax: {\n",
       "                    inlineMath: [ ['$','$'], [\"\\\\(\",\"\\\\)\"] ],\n",
       "                    displayMath: [ ['$$','$$'], [\"\\\\[\",\"\\\\]\"] ]\n",
       "                },\n",
       "                displayAlign: 'center', // Change this to 'center' to center equations.\n",
       "                \"HTML-CSS\": {\n",
       "                    styles: {'.MathJax_Display': {\"margin\": 4}}\n",
       "                }\n",
       "        });\n",
       "</script>\n"
      ],
      "text/plain": [
       "<IPython.core.display.HTML object>"
      ]
     },
     "execution_count": 29,
     "metadata": {},
     "output_type": "execute_result"
    }
   ],
   "source": [
    "from IPython.core.display import HTML\n",
    "def css_styling():\n",
    "    styles = open('../styles/custom.css', 'r').read()\n",
    "    return HTML(styles)\n",
    "css_styling()"
   ]
  }
 ],
 "metadata": {
  "kernelspec": {
   "display_name": "Python 3",
   "language": "python",
   "name": "python3"
  },
  "language_info": {
   "codemirror_mode": {
    "name": "ipython",
    "version": 3
   },
   "file_extension": ".py",
   "mimetype": "text/x-python",
   "name": "python",
   "nbconvert_exporter": "python",
   "pygments_lexer": "ipython3",
   "version": "3.6.1"
  }
 },
 "nbformat": 4,
 "nbformat_minor": 0
}

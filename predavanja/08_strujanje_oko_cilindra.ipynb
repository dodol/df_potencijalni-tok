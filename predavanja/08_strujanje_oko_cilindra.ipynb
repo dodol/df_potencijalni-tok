{
 "cells": [
  {
   "cell_type": "raw",
   "metadata": {},
   "source": []
  },
  {
   "cell_type": "markdown",
   "metadata": {},
   "source": [
    "##### Version 0.01 -- Travanj 2017"
   ]
  },
  {
   "cell_type": "markdown",
   "metadata": {},
   "source": [
    "# Strujanje oko cilindra sa source-panels"
   ]
  },
  {
   "cell_type": "markdown",
   "metadata": {},
   "source": [
    "Do sada smo konstruirali rješenja potencijalnog toka kojim smo mogli opisati tijela jednostavne geometrije, kao Rankine-ove oval ili cilindar u uniformnom toku. Zbrajanjem jednostavnih rješenja potencijalnog toka mogli smo \"dobiti\" sliku strujanja oko tijela.\n",
    "\n",
    "Što ako želimo prikazati strujnice oko proizvoljne geometrije? Je li moguće definirati kombinaciju osnovnih rješenja kojom bi dobili očekivani rezultat? Za to je potrebno mnogo truda i sreće. \n",
    "\n",
    "Cilj ove lekcije je izračunati distribuciju intenziteta izvora koja rezultira potencijalnim strujanjem oko zadane geometrije: kružnog cilindra. Već smo izračunali strujanje sa doublet-om u uniformnom toku, ali ovdje pokušavamo razviti općenitiji pristup koji bi mogli kasnije proširiti na *različite* oblike.\n",
    "\n",
    "Metoda definira tijelo sa skupom kratkih linearnih segmenata, *panela*, koji odgovaraju [source sheets](07_source_sheet.ipynb) iz prošle lekcije.\n",
    "\n",
    "Pokušat ćemo opisati metodu koja *počinje* s definiranom geometrijom tijela, nakon čega izračunava intenzitete izvora za svaki panel kojim se treba dobiti *dividing streamlime* na granici tijela. To znači da brzina na tijelu mora biti tangencijalna. Dobro?\n",
    "\n",
    "Počnimo uobičajenom tehnikom pisanja import modula, knjižnica itd."
   ]
  },
  {
   "cell_type": "code",
   "execution_count": 3,
   "metadata": {
    "collapsed": false
   },
   "outputs": [],
   "source": [
    "import math\n",
    "import numpy\n",
    "from scipy import integrate\n",
    "from matplotlib import pyplot\n",
    "# embed the figures into the notebook\n",
    "%matplotlib inline"
   ]
  },
  {
   "cell_type": "markdown",
   "metadata": {},
   "source": [
    "Dodat ćemo uniformni tok veličine `u_inf`, i neka bude jednak bilo kojoj konstantnoj vrijednosti - 1:"
   ]
  },
  {
   "cell_type": "code",
   "execution_count": 4,
   "metadata": {
    "collapsed": false
   },
   "outputs": [],
   "source": [
    "u_inf = 1.0             # free-stream speed"
   ]
  },
  {
   "cell_type": "markdown",
   "metadata": {},
   "source": [
    "### Definicija geometrije"
   ]
  },
  {
   "cell_type": "markdown",
   "metadata": {},
   "source": [
    "Promatrat ćemo cilindar kružnog poprečnog presjeka jediničnog polumjera. Dakle, treba nacrtati točke za kut od $0$ i $2\\pi$."
   ]
  },
  {
   "cell_type": "code",
   "execution_count": 5,
   "metadata": {
    "collapsed": false
   },
   "outputs": [
    {
     "data": {
      "image/png": "[encoded data removed]",
      "text/plain": [
       "<matplotlib.figure.Figure at 0x7f2f04b67208>"
      ]
     },
     "metadata": {},
     "output_type": "display_data"
    }
   ],
   "source": [
    "# define the cylinder\n",
    "R = 1.0                                                           # radius\n",
    "theta = numpy.linspace(0, 2*math.pi, 100)                         # angles in radians\n",
    "x_cylinder, y_cylinder = R*numpy.cos(theta), R*numpy.sin(theta)   # coordinates of the cylinder\n",
    "\n",
    "# plot the cylinder\n",
    "size = 4\n",
    "pyplot.figure(figsize=(size, size))\n",
    "pyplot.grid(True)\n",
    "pyplot.xlabel('x', fontsize=16)\n",
    "pyplot.ylabel('y', fontsize=16)\n",
    "pyplot.plot(x_cylinder, y_cylinder, color='b', linestyle='-', linewidth=2)\n",
    "pyplot.xlim(-1.1, 1.1)\n",
    "pyplot.ylim(-1.1, 1.1);"
   ]
  },
  {
   "cell_type": "markdown",
   "metadata": {},
   "source": [
    "### Diskretizacija na panele"
   ]
  },
  {
   "cell_type": "markdown",
   "metadata": {},
   "source": [
    "Panel (ili dužina, linija u manje učenim krugovima) predstavlja *source sheet* i definiran je dvjema točkama(`xa`, `ya`) i (`xb`, `yb`) te svojim intenzitetom `sigma`.  Također nam je potrebno polovište panela (`xc`, `yc`) i njegova duljina, ali o tome kasnije. Orijentacija panela je definirana kutem prema $x$-osi i njegovom normalom u smjeru suprotnom od kazaljke na satu.\n",
    "\n",
    "Intenzitet panela će ispravljati strujnice, morat ćemo imati tangencijalne brzine (normalna brzina na tijelo je jednaka nuli za neviskozno strujanje) te će biti potrebno izračunati koeficijent tlaka.\n",
    "\n",
    "Mogi bi napisati sljedeće: Svaki panel ima svoje stanje nad kojim ćemo izvršavati metode. Odnosno, kreirat ćemo klasu `Panel` koja će sadržavati sve potrebne geometrijske podatke. Klasa će sama izračunavati polovište, duljinu i vektor normale. Inicijalizirat ćemo intenzitet, tangencijalnu brzinu i koeficijent tlaka. "
   ]
  },
  {
   "cell_type": "code",
   "execution_count": 6,
   "metadata": {
    "collapsed": false
   },
   "outputs": [],
   "source": [
    "class Panel:\n",
    "    \"\"\"\n",
    "    Contains information related to a panel.\n",
    "    \"\"\"\n",
    "    def __init__(self, xa, ya, xb, yb):\n",
    "        \"\"\"\n",
    "        Initializes the panel.\n",
    "        \n",
    "        Sets the end-points and calculates the center, length, and angle \n",
    "        (with the x-axis) of the panel.\n",
    "        Initializes the strength of the source-sheet, the tangential velocity,\n",
    "        and the pressure coefficient to zero.\n",
    "        \n",
    "        Parameters\n",
    "        ----------\n",
    "        xa: float\n",
    "            x-coordinate of the first end-point.\n",
    "        ya: float\n",
    "            y-coordinate of the first end-point.\n",
    "        xb: float\n",
    "            x-coordinate of the second end-point.\n",
    "        yb: float\n",
    "            y-coordinate of the second end-point.\n",
    "        \"\"\"\n",
    "        self.xa, self.ya = xa, ya\n",
    "        self.xb, self.yb = xb, yb\n",
    "        \n",
    "        self.xc, self.yc = (xa+xb)/2, (ya+yb)/2       # control-point (center-point)\n",
    "        self.length = math.sqrt((xb-xa)**2+(yb-ya)**2)     # length of the panel\n",
    "        \n",
    "        # orientation of the panel (angle between x-axis and panel's normal)\n",
    "        if xb-xa <= 0.:\n",
    "            self.beta = math.acos((yb-ya)/self.length)\n",
    "        elif xb-xa > 0.:\n",
    "            self.beta = math.pi + math.acos(-(yb-ya)/self.length)\n",
    "        \n",
    "        self.sigma = 0.                             # source strength\n",
    "        self.vt = 0.                                # tangential velocity\n",
    "        self.cp = 0.                                # pressure coefficient"
   ]
  },
  {
   "cell_type": "markdown",
   "metadata": {},
   "source": [
    "Formalnim rječnikom: sve diskretizacije ćemo spremiti u NumPy listu veličine `N_panels` gdje je svaki element lise objekt tipa `Panel`."
   ]
  },
  {
   "cell_type": "code",
   "execution_count": 7,
   "metadata": {
    "collapsed": false
   },
   "outputs": [
    {
     "data": {
      "image/png": "[encoded data removed]",
      "text/plain": [
       "<matplotlib.figure.Figure at 0x7f2f04b634a8>"
      ]
     },
     "metadata": {},
     "output_type": "display_data"
    }
   ],
   "source": [
    "N_panels = 10                    # number of panels desired\n",
    "\n",
    "# define the end-points of the panels\n",
    "x_ends = R*numpy.cos(numpy.linspace(0, 2*math.pi, N_panels+1))\n",
    "y_ends = R*numpy.sin(numpy.linspace(0, 2*math.pi, N_panels+1))\n",
    "\n",
    "# define the panels\n",
    "panels = numpy.empty(N_panels, dtype=object)\n",
    "for i in range(N_panels):\n",
    "    panels[i] = Panel(x_ends[i], y_ends[i], x_ends[i+1], y_ends[i+1])\n",
    "    \n",
    "# plot the panels\n",
    "size = 6\n",
    "pyplot.figure(figsize=(size, size))\n",
    "pyplot.grid()\n",
    "pyplot.xlabel('x', fontsize=16)\n",
    "pyplot.ylabel('y', fontsize=16)\n",
    "pyplot.plot(x_cylinder, y_cylinder,\n",
    "            label='cylinder',\n",
    "            color='b', linestyle='-', linewidth=1)\n",
    "pyplot.plot(x_ends, y_ends,\n",
    "            label='panels',\n",
    "            color='#CD2305', linestyle='-', linewidth=2)\n",
    "pyplot.scatter([p.xa for p in panels], [p.ya for p in panels],\n",
    "               label='end-points',\n",
    "               color='#CD2305', s=40)\n",
    "pyplot.scatter([p.xc for p in panels], [p.yc for p in panels],\n",
    "               label='center-points',\n",
    "               color='k', s=40, zorder=3)\n",
    "pyplot.legend(loc='best', prop={'size':16})\n",
    "pyplot.xlim(-1.1, 1.1)\n",
    "pyplot.ylim(-1.1, 1.1);"
   ]
  },
  {
   "cell_type": "markdown",
   "metadata": {},
   "source": [
    "### Rubni uvjet tangencijalnog strujanja"
   ]
  },
  {
   "cell_type": "markdown",
   "metadata": {},
   "source": [
    "Ako je vektor brzine tangencijalan na panel, odnosno $u_n=0$ onda vrijedi:\n",
    "\n",
    "$$u_n(x,y)=\\frac{\\partial \\phi}{\\partial n}(x,y)$$\n",
    "\n",
    "na svakoj točki panela. Eh sad, napisali smo da je normalna komponenta brzine jednaka derivaciji potencijala brzine po normali. I to mora biti jednako nuli. Za točku odabiremo polovište panela koju još nazivamo *kontrolnom točkom*, ili *control point*.\n",
    "\n",
    "The potencijal brzine [source sheet-a](07_source_sheet.ipynb) na panelu u kartezijevim koordinatama:\n",
    "\n",
    "$$\\phi\\left(x,y\\right) = \\frac{\\sigma}{2\\pi} \\int_\\text{panel} \\ln \\sqrt{ \\left(x-x(s)\\right)^2 + \\left(y-y(s)\\right)^2 } {\\rm d}s$$\n",
    "\n",
    "gdje je $s$ koordinata duž panela i $\\left(x(s),y(s)\\right)$ su kartezijeve koordinate varijable $s$.\n",
    "\n",
    "Superpozicija potencijala svakog panela daje ukupni potencijal na bilo kojoj točki $\\left(x,y\\right)$, čime zbrojimo sve doprinose panela (primijetite da smo pomakli eksponent $\\frac{1}{2}$ u logaritamskom članu kao faktor izvan integrala:\n",
    "\n",
    "$$\\phi\\left(x,y\\right) = \\sum_{j=1}^{N_p} \\frac{\\sigma_j}{4\\pi} \\int \\ln \\left( \\left(x-x_j(s_j)\\right)^2 + \\left(y-y_j(s_j)\\right)^2 \\right) {\\rm d}s_j$$\n",
    "\n",
    "Na kraju dodajemo uniformni tok i strujanje oko cilintra može biti prikazano sljedećim potencijalom brzina:\n",
    "\n",
    "$$\\phi\\left(x,y\\right) = U_\\infty x + \\sum_{j=1}^{N_p} \\frac{\\sigma_j}{4\\pi} \\int \\ln \\left( \\left(x-x_j(s_j)\\right)^2 + \\left(y-y_j(s_j)\\right)^2 \\right) {\\rm d}s_j$$"
   ]
  },
  {
   "cell_type": "markdown",
   "metadata": {},
   "source": [
    "Kako zahtijevamo da brzine budu tangencijalne na svakoj *kontrolnoj točki*, time geometrija tijela *približno* odgovara *dividing* strujnici (ovo približno postaje sve točnije ako dodajemo više panela). \n",
    "\n",
    "Dakle, za svaki panel $i$, zahtijevamo da vrijedi $u_n=0$ pri $(x_{c_i},y_{c_i})$:\n",
    "\n",
    "$$u_{n_i} = \\frac{\\partial}{\\partial n_i}\\left\\lbrace \\phi\\left(x_{c_i},y_{c_i}\\right) \\right\\rbrace = 0$$\n",
    "\n",
    "što nas dovodi do\n",
    "\n",
    "$$0 = U_\\infty \\cos\\beta_i + \\sum_{j=1}^{N_p} \\frac{\\sigma_j}{2\\pi} \\int \\frac{\n",
    "\\left(x_{c_i}-x_j(s_j)\\right) \\frac{\\partial x_{c_i}}{\\partial n_i}\n",
    "+ \\left(y_{c_i}-y_j(s_j)\\right) \\frac{\\partial y_{c_i}}{\\partial n_i}\n",
    "}\n",
    "{\\left(x_{c_i}-x_j(s)\\right)^2 + \\left(y_{c_i}-y_j(s)\\right)^2} {\\rm d}s_j$$\n",
    "\n",
    "gdje je $\\beta_i$ kut normale panela s $x$ osi, odnosno\n",
    "\n",
    "$$\\frac{\\partial x_{c_i}}{\\partial n_i} = \\cos\\beta_i \\quad \\text{i}\\quad\\frac{\\partial y_{c_i}}{\\partial n_i} = \\sin\\beta_i$$\n",
    "\n",
    "i\n",
    "\n",
    "$$x_j(s_j) = x_{a_j} - \\sin\\left(\\beta_j\\right) s_j$$\n",
    "$$y_j(s_j) = y_{a_j} + \\cos\\left(\\beta_j\\right) s_j$$\n",
    "\n",
    "A što ako je $i=j$? Znamo da intenziteti moraju biri određene veličine ako ne želimo da strujnice uđu u panel. To nam omogućuje izračunati doprinos $i$-tog panela na sebe, a to je $\\frac{\\sigma_i}{2}$.\n",
    "\n",
    "Napokon, rubni uvjet na polovištu $i$-tog panela:\n",
    "\n",
    "$$0 = U_\\infty \\cos\\beta_i + \\frac{\\sigma_i}{2} + \\sum_{j=1,j\\neq i}^{N_p} \\frac{\\sigma_j}{2\\pi} \\int \\frac{\n",
    "\\left(x_{c_i}-x_j(s_j)\\right) \\cos\\beta_i\n",
    "+ \\left(y_{c_i}-y_j(s_j)\\right) \\sin\\beta_i\n",
    "}\n",
    "{\\left(x_{c_i}-x_j(s)\\right)^2 + \\left(y_{c_i}-y_j(s)\\right)^2} {\\rm d}s_j$$\n",
    "\n",
    "Iz gornje jednadžbe, jasno nam je da trebamo izračunati integrale pomoću SciPy funkcije `integrate.quad()`. Definirat ćemo funkciju `integral_normal()`."
   ]
  },
  {
   "cell_type": "code",
   "execution_count": 8,
   "metadata": {
    "collapsed": false
   },
   "outputs": [],
   "source": [
    "def integral_normal(p_i, p_j):\n",
    "    \"\"\"\n",
    "    Evaluates the contribution of a panel at the center-point of another,\n",
    "    in the normal direction.\n",
    "    \n",
    "    Parameters\n",
    "    ----------\n",
    "    p_i: Panel object\n",
    "        Panel on which the contribution is calculated.\n",
    "    p_j: Panel object\n",
    "        Panel from which the contribution is calculated.\n",
    "    \n",
    "    Returns\n",
    "    -------\n",
    "    Integral over the panel at the center point of the other.\n",
    "    \"\"\"\n",
    "    def integrand(s):\n",
    "        return ( (+(p_i.xc-(p_j.xa-math.sin(p_j.beta)*s))*math.cos(p_i.beta)\n",
    "                  +(p_i.yc-(p_j.ya+math.cos(p_j.beta)*s))*math.sin(p_i.beta))\n",
    "                /((p_i.xc-(p_j.xa-math.sin(p_j.beta)*s))**2\n",
    "                  +(p_i.yc-(p_j.ya+math.cos(p_j.beta)*s))**2) )\n",
    "    return integrate.quad(integrand, 0.0, p_j.length)[0]"
   ]
  },
  {
   "cell_type": "markdown",
   "metadata": {},
   "source": [
    "### Rješavanje sustava jednadžbi"
   ]
  },
  {
   "cell_type": "markdown",
   "metadata": {},
   "source": [
    "Upravo smo izveli jednadžbu kojom zahtijevamo tangencijalno strujanje na $i$-ti panel. Ali postoji `N_panels` panela $i$ i `N_panels` nepoznatih intenziteta $\\sigma_i$. Odnosno, potrebno je riješiti sustav linearnih jednadžbi oblika\n",
    "\n",
    "$$[A][\\sigma] = [b]$$\n",
    "\n",
    "gdje je \n",
    "\n",
    "$$A_{ij} = \\begin{cases}\n",
    "\\begin{matrix}\n",
    "\\frac{1}{2} & \\mbox{, if } i=j \\cr\n",
    "\\frac{1}{2\\pi} \\int \\frac{\n",
    "\\left(x_{c_i}-x_j(s_j)\\right) \\cos\\beta_i\n",
    "+ \\left(y_{c_i}-y_j(s_j)\\right) \\sin\\beta_i\n",
    "}\n",
    "{\\left(x_{c_i}-x_j(s)\\right)^2 + \\left(y_{c_i}-y_j(s)\\right)^2} ds_j & \\mbox{, if } i\\neq j\n",
    "\\end{matrix}\n",
    "\\end{cases}$$\n",
    "\n",
    "i\n",
    "\n",
    "$$b_i = - U_\\infty \\cos\\beta_i$$\n",
    "\n",
    "za $1\\leq i,j \\leq N_p$. \"Napunimo\" matricu $A$ i vektor rješenja $b$ s potrebnim podacima:"
   ]
  },
  {
   "cell_type": "code",
   "execution_count": 9,
   "metadata": {
    "collapsed": false
   },
   "outputs": [],
   "source": [
    "# compute the source influence matrix\n",
    "A = numpy.empty((N_panels, N_panels), dtype=float)\n",
    "numpy.fill_diagonal(A, 0.5)\n",
    "\n",
    "for i, p_i in enumerate(panels):\n",
    "    for j, p_j in enumerate(panels):\n",
    "        if i != j:\n",
    "            A[i,j] = 0.5/math.pi*integral_normal(p_i, p_j)\n",
    "\n",
    "# compute the RHS of the linear system\n",
    "b = - u_inf * numpy.cos([p.beta for p in panels])"
   ]
  },
  {
   "cell_type": "markdown",
   "metadata": {},
   "source": [
    "Primijetite korištenje Python funkcije [enumerate()](https://docs.python.org/2/library/functions.html#enumerate). Time možemo pristupite svakom elementu `panel` u listi `panels` i pratiti indeks u listi `i` (koji  počinje s `0`, kako i priliči) da bi mogli lociirati koji element u `A` treba \"napuniti\"."
   ]
  },
  {
   "cell_type": "markdown",
   "metadata": {},
   "source": [
    "Rješavamo linearni sustav s funkcijom [`linalg.solve()`](http://docs.scipy.org/doc/numpy/reference/generated/numpy.linalg.solve.html) iz NumPy knjižnice i dodjeljujemo svakom panelu odgovarajući intenzitet:"
   ]
  },
  {
   "cell_type": "code",
   "execution_count": 10,
   "metadata": {
    "collapsed": false
   },
   "outputs": [],
   "source": [
    "# solve the linear system\n",
    "sigma = numpy.linalg.solve(A, b)\n",
    "\n",
    "for i, panel in enumerate(panels):\n",
    "    panel.sigma = sigma[i]"
   ]
  },
  {
   "cell_type": "markdown",
   "metadata": {},
   "source": [
    "### Pressure coefficient na površini objekta"
   ]
  },
  {
   "cell_type": "markdown",
   "metadata": {},
   "source": [
    "Do sada smo uspjeli izračunati intenzitete izvora za svaki panel i dobili strujnice oko naše geometrije. Sada možemo izračunati koeficijent tlaka na površini objekta.\n",
    "\n",
    "Iz Bernouolli-jeva jednadžbe, koeficijent tlaka na $i$-tom panelu je \n",
    "\n",
    "$$C_{p_i} = 1-\\left(\\frac{u_{t_i}}{U_\\infty}\\right)^2$$\n",
    "\n",
    "gdje je $u_{t_i}$ tangencijalna komponenta brzine na polovištu$i$-tog panela,\n",
    "\n",
    "$$u_{t_i} = \\frac{\\partial}{\\partial t_i}\\left\\lbrace \\phi\\left(x_{c_i},y_{c_i}\\right) \\right\\rbrace$$\n",
    "\n",
    "a može se izračunati kao:\n",
    "\n",
    "$$u_{t_i} = -U_\\infty \\sin\\beta_i + \\sum_{j=1}^{N_p} \\frac{\\sigma_j}{2\\pi} \\int \\frac{\n",
    "\\left(x_{c_i}-x_j(s_j)\\right) \\frac{\\partial x_{c_i}}{\\partial t_i}\n",
    "+ \\left(y_{c_i}-y_j(s_j)\\right) \\frac{\\partial y_{c_i}}{\\partial t_i}\n",
    "}\n",
    "{\\left(x_{c_i}-x_j(s)\\right)^2 + \\left(y_{c_i}-y_j(s)\\right)^2} {\\rm d}s_j$$\n",
    "\n",
    "s\n",
    "\n",
    "$$\\frac{\\partial x_{c_i}}{\\partial t_i} = -\\sin\\beta_i \\quad\\text{and} \\quad \\frac{\\partial y_{c_i}}{\\partial t_i} = \\cos\\beta_i$$\n",
    "\n",
    "Primijetite da je doprinos tangencijalne komponente na panel iz vlastitog potencijala nula. \n",
    "\n",
    "Definirat ćemo funkciju `integral_tangential()` koja će izračunati gornje integrale sa SciPy funkcijom `integrate.quad()`, ali to ste već i znali:"
   ]
  },
  {
   "cell_type": "code",
   "execution_count": 11,
   "metadata": {
    "collapsed": false
   },
   "outputs": [],
   "source": [
    "def integral_tangential(p_i, p_j):\n",
    "    \"\"\"\n",
    "    Evaluates the contribution of a panel at the center-point of another,\n",
    "    in the tangential direction.\n",
    "    \n",
    "    Parameters\n",
    "    ----------\n",
    "    p_i: Panel object\n",
    "        Panel on which the contribution is calculated.\n",
    "    p_j: Panel object\n",
    "        Panel from which the contribution is calculated.\n",
    "    \n",
    "    Returns\n",
    "    -------\n",
    "    Integral over the panel at the center point of the other.\n",
    "    \"\"\"\n",
    "    def integrand(s):\n",
    "        return ( (-(p_i.xc-(p_j.xa-math.sin(p_j.beta)*s))*math.sin(p_i.beta)\n",
    "                  +(p_i.yc-(p_j.ya+math.cos(p_j.beta)*s))*math.cos(p_i.beta))\n",
    "                /((p_i.xc-(p_j.xa-math.sin(p_j.beta)*s))**2\n",
    "                  +(p_i.yc-(p_j.ya+math.cos(p_j.beta)*s))**2) )\n",
    "    return integrate.quad(integrand, 0.0, p_j.length)[0]"
   ]
  },
  {
   "cell_type": "code",
   "execution_count": 12,
   "metadata": {
    "collapsed": false
   },
   "outputs": [],
   "source": [
    "# compute the matrix of the linear system\n",
    "A = numpy.empty((N_panels, N_panels), dtype=float)\n",
    "numpy.fill_diagonal(A, 0.0)\n",
    "\n",
    "for i, p_i in enumerate(panels):\n",
    "    for j, p_j in enumerate(panels):\n",
    "        if i != j:\n",
    "            A[i,j] = 0.5/math.pi*integral_tangential(p_i, p_j)\n",
    "\n",
    "# compute the RHS of the linear system\n",
    "b = - u_inf * numpy.sin([panel.beta for panel in panels])\n",
    "\n",
    "# compute the tangential velocity at each panel center-point\n",
    "vt = numpy.dot(A, sigma) + b\n",
    "\n",
    "for i, panel in enumerate(panels):\n",
    "    panel.vt = vt[i]"
   ]
  },
  {
   "cell_type": "markdown",
   "metadata": {},
   "source": [
    "Jednom kada izračunamo tangencijalnu komponentu brzine, možemo izračunati koeficijent tlaka:"
   ]
  },
  {
   "cell_type": "code",
   "execution_count": 13,
   "metadata": {
    "collapsed": false
   },
   "outputs": [],
   "source": [
    "# calculate the surface pressure coefficient\n",
    "for panel in panels:\n",
    "    panel.cp = 1.0 - (panel.vt/u_inf)**2"
   ]
  },
  {
   "cell_type": "markdown",
   "metadata": {},
   "source": [
    "Vrijeme je za crtanje.\n",
    "\n",
    "Baš kao što je već jednom pokazano u lekciji [doublet](03_dublet.ipynb), egzaktan koeficijent tlaka na površini cilindra iznosi\n",
    "\n",
    "$$Cp = 1 - 4\\sin^2 \\theta$$\n",
    "\n",
    "odnosno\n",
    "\n",
    "$$Cp = 1 - 4\\left(\\frac{y}{R}\\right)^2$$\n",
    "\n",
    "Možemo usporediti analitičke rezultate s rezultatima dobivenim pomoću source-panel metode."
   ]
  },
  {
   "cell_type": "code",
   "execution_count": 14,
   "metadata": {
    "collapsed": false
   },
   "outputs": [
    {
     "data": {
      "image/png": "[encoded data removed]",
      "text/plain": [
       "<matplotlib.figure.Figure at 0x7f2ed55772b0>"
      ]
     },
     "metadata": {},
     "output_type": "display_data"
    }
   ],
   "source": [
    "# calculate the analytical surface pressure coefficient\n",
    "cp_analytical = 1.0 - 4*(y_cylinder/R)**2\n",
    "\n",
    "# plot the surface pressure coefficient\n",
    "pyplot.figure(figsize=(10, 6))\n",
    "pyplot.grid()\n",
    "pyplot.xlabel('x', fontsize=16)\n",
    "pyplot.ylabel('$C_p$', fontsize=16)\n",
    "pyplot.plot(x_cylinder, cp_analytical,\n",
    "            label='analitički',\n",
    "            color='b', linestyle='-', linewidth=1, zorder=1)\n",
    "pyplot.scatter([p.xc for p in panels], [p.cp for p in panels],\n",
    "               label='source-panel method',\n",
    "               color='#CD2305', s=40, zorder=2)\n",
    "pyplot.title('Number of panels : %d' % N_panels, fontsize=16)\n",
    "pyplot.legend(loc='best', prop={'size':16})\n",
    "pyplot.xlim(-1.0, 1.0)\n",
    "pyplot.ylim(-4.0, 2.0);"
   ]
  },
  {
   "cell_type": "markdown",
   "metadata": {},
   "source": [
    "##### Zadatak"
   ]
  },
  {
   "cell_type": "markdown",
   "metadata": {},
   "source": [
    "Bilo bi zanimljivo vidjeti kako izgledaju strujnice za ovakvo strujanje\n",
    "\n",
    "Možemo koristiti funkciju `streamplot()` iz Matplotlib knjižnice, za što nam trebaju komponente brzina (`u`,`v`) na mreži (`X`,`Y`). Prvi korak je izvesti jednadžbe za komponente brzina.\n",
    "\n",
    "Potencija u točki $\\left(x,y\\right)$ s of the $N_p$ source sheets in a uniform horizontal flow $U_\\infty$ is\n",
    "\n",
    "$$\\phi\\left(x,y\\right) = U_\\infty x + \\sum_{j=1}^{N_p} \\frac{\\sigma_j}{4\\pi} \\int \\ln \\left( \\left(x-x_j(s_j)\\right)^2 + \\left(y-y_j(s_j)\\right)^2 \\right) {\\rm d}s_j$$\n",
    "\n",
    "A polje brzina u točki $\\left(x,y\\right)$ je \n",
    "\n",
    "$$u\\left(x,y\\right) = \\frac{\\partial}{\\partial x}\\left\\lbrace \\phi\\left(x,y\\right) \\right\\rbrace$$\n",
    "\n",
    "$$v\\left(x,y\\right) = \\frac{\\partial}{\\partial y}\\left\\lbrace \\phi\\left(x,y\\right) \\right\\rbrace$$\n",
    "\n",
    "Morat ćete :\n",
    "\n",
    "* izvesti komponente brzina u kartezijevim koordinatama\n",
    "* kreirati numeričku mrežu\n",
    "* izračunati polje brzina na to mreži\n",
    "* iscrtati rezultate\n",
    "* promijeniti broj panela da poboljšamo vizualizacijuchange the number of panels to improve the visualization"
   ]
  },
  {
   "cell_type": "markdown",
   "metadata": {},
   "source": [
    "---"
   ]
  },
  {
   "cell_type": "raw",
   "metadata": {},
   "source": [
    "Ignorirati dolje: load stila"
   ]
  },
  {
   "cell_type": "code",
   "execution_count": 1,
   "metadata": {
    "collapsed": false
   },
   "outputs": [
    {
     "data": {
      "text/html": [
       "<link href='http://fonts.googleapis.com/css?family=Fenix' rel='stylesheet' type='text/css'>\n",
       "<link href='http://fonts.googleapis.com/css?family=Alegreya+Sans:100,300,400,500,700,800,900,100italic,300italic,400italic,500italic,700italic,800italic,900italic' rel='stylesheet' type='text/css'>\n",
       "<link href='http://fonts.googleapis.com/css?family=Source+Code+Pro:300,400' rel='stylesheet' type='text/css'>\n",
       "<style>\n",
       "\n",
       "@font-face {\n",
       "    font-family: \"Computer Modern\";\n",
       "    src: url('http://mirrors.ctan.org/fonts/cm-unicode/fonts/otf/cmunss.otf');\n",
       "}\n",
       "\n",
       "\n",
       "#notebook_panel { /* main background */\n",
       "    background: rgb(245,245,245);\n",
       "}\n",
       "\n",
       "div.cell { /* set cell width */\n",
       "    width: 750px;\n",
       "}\n",
       "\n",
       "div #notebook { /* centre the content */\n",
       "    background: #fff; /* white background for content */\n",
       "    width: 1000px;\n",
       "    margin: auto;\n",
       "    padding-left: 0em;\n",
       "}\n",
       "\n",
       "#notebook li { /* More space between bullet points */\n",
       "margin-top:0.8em;\n",
       "}\n",
       "\n",
       "/* draw border around running cells */\n",
       "div.cell.border-box-sizing.code_cell.running { \n",
       "    border: 1px solid #111;\n",
       "}\n",
       "\n",
       "/* Put a solid color box around each cell and its output, visually linking them*/\n",
       "div.cell.code_cell {\n",
       "    background-color: rgb(256,256,256); \n",
       "    border-radius: 0px; \n",
       "    padding: 0.5em;\n",
       "    margin-left:1em;\n",
       "    margin-top: 1em;\n",
       "}\n",
       "\n",
       "\n",
       "div.text_cell_render{\n",
       "    font-family: 'Alegreya Sans' sans-serif;\n",
       "    line-height: 140%;\n",
       "    font-size: 125%;\n",
       "    font-weight: 400;\n",
       "    width:600px;\n",
       "    margin-left:auto;\n",
       "    margin-right:auto;\n",
       "}\n",
       "\n",
       "/* Formatting for header cells */\n",
       ".text_cell_render h1 {\n",
       "    font-family: 'Alegreya Sans', sans-serif;\n",
       "    font-style:regular;\n",
       "    font-weight: 200;    \n",
       "    font-size: 50pt;\n",
       "    line-height: 100%;\n",
       "    color:#CD2305;\n",
       "    margin-bottom: 0.5em;\n",
       "    margin-top: 0.5em;\n",
       "    display: block;\n",
       "}\t\n",
       ".text_cell_render h2 {\n",
       "    font-family: 'Fenix', serif;\n",
       "    font-size: 22pt;\n",
       "    line-height: 100%;\n",
       "    margin-bottom: 0.1em;\n",
       "    margin-top: 0.3em;\n",
       "    display: block;\n",
       "}\t\n",
       "\n",
       ".text_cell_render h3 {\n",
       "    font-family: 'Fenix', serif;\n",
       "    margin-top:12px;\n",
       "\tfont-size: 16pt;\n",
       "    margin-bottom: 3px;\n",
       "    font-style: regular;\n",
       "}\n",
       "\n",
       ".text_cell_render h4 {    /*Use this for captions*/\n",
       "    font-family: 'Fenix', serif;\n",
       "    font-size: 2pt;\n",
       "    text-align: center;\n",
       "    margin-top: 0em;\n",
       "    margin-bottom: 2em;\n",
       "    font-style: regular;\n",
       "}\n",
       "\n",
       ".text_cell_render h5 {  /*Use this for small titles*/\n",
       "    font-family: 'Alegreya Sans', sans-serif;\n",
       "    font-weight: 300;\n",
       "    font-size: 16pt;\n",
       "    color: #CD2305;\n",
       "    font-style: italic;\n",
       "    margin-bottom: .5em;\n",
       "    margin-top: 0.5em;\n",
       "    display: block;\n",
       "}\n",
       "\n",
       ".text_cell_render h6 { /*use this for copyright note*/\n",
       "    font-family: 'Source Code Pro', sans-serif;\n",
       "    font-weight: 300;\n",
       "    font-size: 9pt;\n",
       "    line-height: 100%;\n",
       "    color: grey;\n",
       "    margin-bottom: 1px;\n",
       "    margin-top: 1px;\n",
       "}\n",
       "\n",
       "    .CodeMirror{\n",
       "            font-family: \"Source Code Pro\";\n",
       "\t\t\tfont-size: 90%;\n",
       "    }\n",
       "/*    .prompt{\n",
       "        display: None;\n",
       "    }*/\n",
       "\t\n",
       "    \n",
       "    .warning{\n",
       "        color: rgb( 240, 20, 20 )\n",
       "        }  \n",
       "</style>\n",
       "<script>\n",
       "    MathJax.Hub.Config({\n",
       "                        TeX: {\n",
       "                           extensions: [\"AMSmath.js\"], \n",
       "                           equationNumbers: { autoNumber: \"AMS\", useLabelIds: true}\n",
       "                           },\n",
       "                tex2jax: {\n",
       "                    inlineMath: [ ['$','$'], [\"\\\\(\",\"\\\\)\"] ],\n",
       "                    displayMath: [ ['$$','$$'], [\"\\\\[\",\"\\\\]\"] ]\n",
       "                },\n",
       "                displayAlign: 'center', // Change this to 'center' to center equations.\n",
       "                \"HTML-CSS\": {\n",
       "                    styles: {'.MathJax_Display': {\"margin\": 4}}\n",
       "                }\n",
       "        });\n",
       "</script>\n"
      ],
      "text/plain": [
       "<IPython.core.display.HTML object>"
      ]
     },
     "execution_count": 1,
     "metadata": {},
     "output_type": "execute_result"
    }
   ],
   "source": [
    "from IPython.core.display import HTML\n",
    "def css_styling():\n",
    "    styles = open('../styles/custom.css', 'r').read()\n",
    "    return HTML(styles)\n",
    "css_styling()"
   ]
  }
 ],
 "metadata": {
  "kernelspec": {
   "display_name": "Python 3",
   "language": "python",
   "name": "python3"
  },
  "language_info": {
   "codemirror_mode": {
    "name": "ipython",
    "version": 3
   },
   "file_extension": ".py",
   "mimetype": "text/x-python",
   "name": "python",
   "nbconvert_exporter": "python",
   "pygments_lexer": "ipython3",
   "version": "3.6.1"
  }
 },
 "nbformat": 4,
 "nbformat_minor": 0
}
